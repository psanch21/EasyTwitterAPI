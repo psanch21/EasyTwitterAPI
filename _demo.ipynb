{
 "cells": [
  {
   "cell_type": "code",
   "execution_count": null,
   "metadata": {},
   "outputs": [],
   "source": [
    "# %%\n",
    "from EasyTwitterAPI.easy_twitter_api import EasyTwitterAPI\n",
    "\n",
    "import json\n",
    "import pickle"
   ]
  },
  {
   "cell_type": "code",
   "execution_count": null,
   "metadata": {},
   "outputs": [],
   "source": [
    "with open(\"local/host_mongodb.txt\", \"r\") as f:\n",
    "    host = f.readline().strip()\n",
    "scraper = EasyTwitterAPI(cred_file='local/credentials_jl1.json',   \n",
    "                         sleep_secs=330,\n",
    "                         host=host\n",
    "                        )"
   ]
  },
  {
   "cell_type": "code",
   "execution_count": null,
   "metadata": {},
   "outputs": [],
   "source": [
    "scraper.db.collection_names()"
   ]
  },
  {
   "cell_type": "markdown",
   "metadata": {},
   "source": [
    "# User information"
   ]
  },
  {
   "cell_type": "code",
   "execution_count": null,
   "metadata": {},
   "outputs": [],
   "source": [
    "scraper.activate_cache(True)\n",
    "user = scraper.get_user(screen_name='elonmusk')\n",
    "user = scraper.get_user(screen_name='EmtiyazKhan')\n",
    "user = scraper.get_user(screen_name='mmbronstein')\n",
    "user = scraper.get_user(screen_name='PetarV_93')"
   ]
  },
  {
   "cell_type": "code",
   "execution_count": null,
   "metadata": {},
   "outputs": [],
   "source": [
    "scraper.db.load_users(filter_={'screen_name': {'$in':['EmtiyazKhan']}}, find_one=False, return_as='df')"
   ]
  },
  {
   "cell_type": "markdown",
   "metadata": {},
   "source": [
    "# Followees"
   ]
  },
  {
   "cell_type": "code",
   "execution_count": null,
   "metadata": {},
   "outputs": [],
   "source": [
    "followees = scraper.get_followees(screen_name='elonmusk')"
   ]
  },
  {
   "cell_type": "markdown",
   "metadata": {},
   "source": [
    "# Followers"
   ]
  },
  {
   "cell_type": "code",
   "execution_count": null,
   "metadata": {},
   "outputs": [],
   "source": [
    "followers = scraper.get_followers(screen_name='EmtiyazKhan')"
   ]
  },
  {
   "cell_type": "markdown",
   "metadata": {},
   "source": [
    "# Lists of user\n",
    "We can collect three types of lists for a given user:\n",
    " - membership (m)\n",
    " - owned (o)\n",
    " - subscriptions (s)"
   ]
  },
  {
   "cell_type": "code",
   "execution_count": null,
   "metadata": {},
   "outputs": [],
   "source": [
    "from datetime import datetime\n",
    "lists = scraper.update_lists_of_user(list_type='m', \n",
    "                             min_dt=datetime.now(),\n",
    "                             screen_name='mmbronstein')"
   ]
  },
  {
   "cell_type": "code",
   "execution_count": null,
   "metadata": {},
   "outputs": [],
   "source": [
    "scraper.activate_cache(True)\n",
    "lists_ids = scraper.get_lists_ids_of_user(list_type='m', screen_name='EmtiyazKhan')\n",
    "lists_ids = scraper.get_lists_ids_of_user(list_type='m', screen_name='mmbronstein')"
   ]
  },
  {
   "cell_type": "code",
   "execution_count": null,
   "metadata": {},
   "outputs": [],
   "source": [
    "\n",
    "# df_lists = scraper.get_lists_of_user_full(list_type='m', screen_name='EmtiyazKhan')\n",
    "# df_lists = scraper.get_lists_of_user_full(list_type='m', screen_name='mmbronstein', max_num=289248)\n",
    "df_lists = scraper.get_lists_of_user_full(list_type='m', screen_name='PetarV_93', max_num=289248, force=True)\n",
    "\n"
   ]
  },
  {
   "cell_type": "code",
   "execution_count": null,
   "metadata": {},
   "outputs": [],
   "source": [
    "df_lists.head()"
   ]
  },
  {
   "cell_type": "markdown",
   "metadata": {},
   "source": [
    "# Lists"
   ]
  },
  {
   "cell_type": "code",
   "execution_count": null,
   "metadata": {},
   "outputs": [],
   "source": [
    "list_ = scraper.get_list(list_id_str='1283064489957445633')\n",
    "for key, value in list_.items():\n",
    "    print(f\"{key} : {value}\")"
   ]
  },
  {
   "cell_type": "markdown",
   "metadata": {},
   "source": [
    "# Get members of Lists"
   ]
  },
  {
   "cell_type": "code",
   "execution_count": null,
   "metadata": {},
   "outputs": [],
   "source": [
    "members_list = scraper.get_members_of_list(list_id_str='1283064489957445633', max_num=1000000)"
   ]
  },
  {
   "cell_type": "markdown",
   "metadata": {},
   "source": [
    "# Timeline"
   ]
  },
  {
   "cell_type": "code",
   "execution_count": null,
   "metadata": {},
   "outputs": [],
   "source": [
    "df = scraper.get_user_activity_limited(screen_name='mmbronstein', max_num=12194)"
   ]
  },
  {
   "cell_type": "code",
   "execution_count": null,
   "metadata": {},
   "outputs": [],
   "source": [
    "df = scraper.get_user_activity_limited(screen_name='elonmusk', max_num=5151517)"
   ]
  },
  {
   "cell_type": "markdown",
   "metadata": {},
   "source": [
    "# Favourites"
   ]
  },
  {
   "cell_type": "code",
   "execution_count": null,
   "metadata": {},
   "outputs": [],
   "source": [
    "df = scraper.get_user_favorites(screen_name='elonmusk', max_num=5151517)"
   ]
  },
  {
   "cell_type": "markdown",
   "metadata": {},
   "source": [
    "# Wall"
   ]
  },
  {
   "cell_type": "code",
   "execution_count": null,
   "metadata": {},
   "outputs": [],
   "source": [
    "followees = scraper.get_followees(screen_name='elonmusk')\n",
    "\n",
    "for foll_id_str in followees[:20]:\n",
    "    df = scraper.get_user_activity_limited(user_id=foll_id_str, max_num=5151517)\n",
    "    "
   ]
  }
 ],
 "metadata": {
  "kernelspec": {
   "display_name": "Python 3",
   "language": "python",
   "name": "python3"
  },
  "language_info": {
   "codemirror_mode": {
    "name": "ipython",
    "version": 3
   },
   "file_extension": ".py",
   "mimetype": "text/x-python",
   "name": "python",
   "nbconvert_exporter": "python",
   "pygments_lexer": "ipython3",
   "version": "3.7.4"
  }
 },
 "nbformat": 4,
 "nbformat_minor": 2
}
